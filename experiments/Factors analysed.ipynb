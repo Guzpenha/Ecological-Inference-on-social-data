{
 "cells": [
  {
   "cell_type": "markdown",
   "metadata": {},
   "source": [
    "# King\n",
    "\n",
    "\n",
    "ei(formula, total, id, data, Zb=1, Zw=1,data=NA, erho=.5, esigma=.5, ebeta=.5, ealphab=NA, ealphaw=NA, truth=NA, precision=4)\n",
    "\n",
    "* __erho__: The standard deviation of the normal prior on φ5 for the correlation. Default = 0.5.\n",
    "\n",
    "* __ebeta__: Standard deviation of the ”flat normal” prior on B˘b and B˘w. The flat normal prior is uniform within the unit square and dropping outside the square according to the normal distribution. Set to zero for no prior. Setting to positive values probabilistically keeps the estimated mode within the unit square. Default= 0.5\n",
    "\n",
    "* __esigma__: The standard deviation of an underlying normal distribution, from which a halfnormal is constructed as a prior for both ˘σb and ˘σw. Default = 0.5\n",
    "\n",
    "* __alphab__ cols(Zb) x 2 matrix of means (in the first column) and standard deviations (in the second) of an independent normal prior distribution on elements of αb. If you specify Zb, you should probably specify a prior, at least with mean zero and some variance (default is no prior). (See Equation 9.2, page 170, to interpretαb). \n",
    "\n",
    "* __ealphaw__ cols(Zw) x 2 matrix of means (in the first column) and standard deviations (in the second) of an independent normal prior distribution on elements of αw.20If you specify Zw, you should probably specify a prior, at least with mean  zero and some variance (default is no prior). (See Equation 9.2, page 170, tointerpret αw).\n"
   ]
  },
  {
   "cell_type": "markdown",
   "metadata": {},
   "source": [
    "# Imai\n",
    "\n",
    "eco(formula, data = parent.frame(), N = NULL, supplement = NULL,\n",
    "context = FALSE, mu0 = 0, tau0 = 2, nu0 = 4, S0 = 10,\n",
    "mu.start = 0, Sigma.start = 10, parameter = TRUE,\n",
    "grid = FALSE, n.draws = 5000, burnin = 0, thin = 0,\n",
    "verbose = FALSE)\n",
    "\n",
    "* __context__: Logical. If TRUE, the contextual effect is also modeled, that is to assume the row margin X and the unknown W1 and W2 are correlated. See Imai, Lu and Strauss (2008, 2011) for details. The default is FALSE.\n",
    "\n",
    "* __mu0__: A scalar or a numeric vector that specifies the prior mean for the mean parameter µ for (W1, W2) (or for (W1, W2, X) if context=TRUE). When the input of mu0 is a scalar, its value will be repeated to yield a vector of the length of µ, otherwise, it needs to be a vector of same length as µ. When context=TRUE, the length of µ is 3, otherwise it is 2. The default is 0.\n",
    "\n",
    "* __tau0__:  A positive integer representing the scale parameter of the Normal-Inverse Wishart prior for the mean and variance parameter (µ, Σ). The default is 2.\n",
    "\n",
    "* __nu0__: A positive integer representing the prior degrees of freedom of the NormalInverse Wishart prior for the mean and variance parameter (µ, Σ). The default is 4. \n",
    "\n",
    "* __S0__: A positive scalar or a positive definite matrix that specifies the prior scale matrix of the Normal-Inverse Wishart prior for the mean and variance parameter (µ, Σ). If it is a scalar, then the prior scale matrix will be a diagonal matrix with the same dimensions as Σ and the diagonal elements all take value of S0, otherwise S0 needs to have same dimensions as Σ. When context=TRUE, Σ is a 3 × 3 matrix, otherwise, it is 2 × 2. The default is 10.\n",
    "\n",
    "* __mu.start__: A scalar or a numeric vector that specifies the starting values of the mean parameter µ. If it is a scalar, then its value will be repeated to yield a vector of the length of µ, otherwise, it needs to be a vector of same length as µ. When context=FALSE, the length of µ is 2, otherwise it is 3. The default is 0.\n",
    "\n",
    "* __Sigma.start__: A scalar or a positive definite matrix that specified the starting value of the variance matrix Σ. If it is a scalar, then the prior scale matrix will be a diagonal matrix with the same dimensions as Σ and the diagonal elements all take value of S0, otherwise S0 needs to have same dimensions as Σ. When context=TRUE, Σ is a 3 × 3 matrix, otherwise, it is 2 × 2. The default is 10."
   ]
  },
  {
   "cell_type": "markdown",
   "metadata": {},
   "source": [
    "# Wakefield\n",
    "MCMChierEI(r0, r1, c0, c1, burnin=5000, mcmc=50000, thin=1, verbose=0, seed=NA, m0=0, M0=2.287656, m1=0, M1=2.287656, a0=0.825, b0=0.0105, a1=0.825, b1=0.0105, ...)\n",
    "\n",
    "* __m0__: Prior mean of the µ0 parameter.\n",
    "* __M0__: Prior variance of the µ0 parameter.\n",
    "* __m1__: Prior mean of the µ1 parameter.\n",
    "* __M1__: Prior variance of the µ1 parameter.\n",
    "* __a0__: a0/2 is the shape parameter for the inverse-gamma prior on the σ2 0 parameter.\n",
    "* __b0__: b0/2 is the scale parameter for the inverse-gamma prior on the σ2 0 parameter.\n",
    "* __a1__: a1/2 is the shape parameter for the inverse-gamma prior on the σ2 1 parameter.\n",
    "* __b1__: b1/2 is the scale parameter for the inverse-gamma prior on the σ2 1 parameter."
   ]
  },
  {
   "cell_type": "code",
   "execution_count": null,
   "metadata": {
    "collapsed": true
   },
   "outputs": [],
   "source": []
  }
 ],
 "metadata": {
  "kernelspec": {
   "display_name": "Python 2",
   "language": "python",
   "name": "python2"
  },
  "language_info": {
   "codemirror_mode": {
    "name": "ipython",
    "version": 2
   },
   "file_extension": ".py",
   "mimetype": "text/x-python",
   "name": "python",
   "nbconvert_exporter": "python",
   "pygments_lexer": "ipython2",
   "version": "2.7.10"
  }
 },
 "nbformat": 4,
 "nbformat_minor": 0
}
